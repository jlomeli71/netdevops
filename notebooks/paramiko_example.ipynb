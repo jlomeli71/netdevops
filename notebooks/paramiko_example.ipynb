{
 "cells": [
  {
   "cell_type": "code",
   "execution_count": 1,
   "id": "f62e7b6d-8066-4209-bc95-593db285b7c5",
   "metadata": {},
   "outputs": [],
   "source": [
    "# Import libraries\n",
    "import time\n",
    "import csv\n",
    "import paramiko\n",
    "import os"
   ]
  },
  {
   "cell_type": "code",
   "execution_count": 2,
   "id": "81fdfad2-5138-4ae0-8210-6b1a353f5a1c",
   "metadata": {},
   "outputs": [],
   "source": [
    "# Aster Tijuana\n",
    "# MXBCNTIJ8013GTMRTLD01\n",
    "# 10.190.170.44\n",
    "# username: jl5890\n",
    "# password: 5rJFrgPA"
   ]
  },
  {
   "cell_type": "code",
   "execution_count": 5,
   "id": "a1d500e3-21d9-466e-84fa-a5a30cf881fa",
   "metadata": {},
   "outputs": [],
   "source": [
    "ipv4 = \"10.190.170.44\"\n",
    "username = \"jl5890\"\n",
    "password = \"5rJFrgPA\""
   ]
  },
  {
   "cell_type": "code",
   "execution_count": 17,
   "id": "e159f7c0-9fe8-4a35-a5ea-959bea1176bd",
   "metadata": {},
   "outputs": [
    {
     "name": "stdout",
     "output_type": "stream",
     "text": [
      "A:MXBCNTIJ8013GTMRTLD01# \n"
     ]
    }
   ],
   "source": [
    "try:\n",
    "    remote_conn_pre=paramiko.SSHClient()\n",
    "    remote_conn_pre.set_missing_host_key_policy(paramiko.AutoAddPolicy())\n",
    "    remote_conn_pre.connect(ipv4, username=username, password=password, look_for_keys=False, allow_agent=False)\n",
    "    remote_conn = remote_conn_pre.invoke_shell()\n",
    "    time.sleep(2)\n",
    "    output = remote_conn.recv(1000).decode(\"ascii\")\n",
    "    print(output)\n",
    "except Exception as e:\n",
    "    # Print to check error type\n",
    "    print(e)"
   ]
  },
  {
   "cell_type": "code",
   "execution_count": 18,
   "id": "68429045-52f2-414c-9771-338bb6339121",
   "metadata": {},
   "outputs": [
    {
     "name": "stdout",
     "output_type": "stream",
     "text": [
      "show version \n",
      "TiMOS-B-22.10.R3 both/hops64 Nokia 7250 IXR Copyright (c) 2000-2023 Nokia.\n",
      "All rights reserved. All use subject to applicable license agreements.\n",
      "Built on Wed Feb 15 17:27:20 PST 2023 by builder in /builds/c/2210B/R3/panos/main/sros\n",
      "A:MXBCNTIJ8013GTMRTLD01# \n"
     ]
    }
   ],
   "source": [
    "try:                         \n",
    "    remote_conn.send(\"show version\\n\")\n",
    "    time.sleep(5)\n",
    "    output = remote_conn.recv(5000).decode(\"ascii\")\n",
    "    print(output)\n",
    "except:                        \n",
    "    remote_conn.send(\"display version\\n\")\n",
    "    time.sleep(5)\n",
    "    output = remote_conn.recv(5000).decode(\"ascii\")\n",
    "    print(output)"
   ]
  },
  {
   "cell_type": "code",
   "execution_count": 20,
   "id": "dd32d87a-341b-46c3-8580-63644288980d",
   "metadata": {},
   "outputs": [],
   "source": [
    "remote_conn.close()"
   ]
  },
  {
   "cell_type": "code",
   "execution_count": 22,
   "id": "0d183129-9368-4683-a36d-e4eece5e16fb",
   "metadata": {},
   "outputs": [],
   "source": [
    "# Mean\n",
    "# MEX-M1-CA\n",
    "# 10.190.3.246"
   ]
  },
  {
   "cell_type": "code",
   "execution_count": 23,
   "id": "b4b96164-ea7d-4830-8599-a51156eab579",
   "metadata": {},
   "outputs": [],
   "source": [
    "ipv4 = \"10.190.3.246\"\n",
    "username = \"jl5890\"\n",
    "password = \"5rJFrgPA\""
   ]
  },
  {
   "cell_type": "code",
   "execution_count": 24,
   "id": "c8672130-7f10-4a69-bb4d-a0467f97fb60",
   "metadata": {},
   "outputs": [
    {
     "name": "stdout",
     "output_type": "stream",
     "text": [
      "A:MEX-M1-CA# \n"
     ]
    }
   ],
   "source": [
    "try:\n",
    "    remote_conn_pre=paramiko.SSHClient()\n",
    "    remote_conn_pre.set_missing_host_key_policy(paramiko.AutoAddPolicy())\n",
    "    remote_conn_pre.connect(ipv4, username=username, password=password, look_for_keys=False, allow_agent=False)\n",
    "    remote_conn = remote_conn_pre.invoke_shell()\n",
    "    time.sleep(2)\n",
    "    output = remote_conn.recv(1000).decode(\"ascii\")\n",
    "    print(output)\n",
    "except Exception as e:\n",
    "    # Print to check error type\n",
    "    print(e)"
   ]
  },
  {
   "cell_type": "code",
   "execution_count": 25,
   "id": "06b49406-6637-4d8e-973e-1136667fb430",
   "metadata": {},
   "outputs": [
    {
     "name": "stdout",
     "output_type": "stream",
     "text": [
      "show version \n",
      "TiMOS-C-21.10.R2 cpm/hops64 Nokia 7750 SR Copyright (c) 2000-2021 Nokia.\n",
      "All rights reserved. All use subject to applicable license agreements.\n",
      "Built on Wed Dec 15 14:15:11 PST 2021 by builder in /builds/c/2110B/R2/panos/main/sros\n",
      "A:MEX-M1-CA# \n"
     ]
    }
   ],
   "source": [
    "try:                         \n",
    "    remote_conn.send(\"show version\\n\")\n",
    "    time.sleep(5)\n",
    "    output = remote_conn.recv(5000).decode(\"ascii\")\n",
    "    print(output)\n",
    "except:                        \n",
    "    remote_conn.send(\"display version\\n\")\n",
    "    time.sleep(5)\n",
    "    output = remote_conn.recv(5000).decode(\"ascii\")\n",
    "    print(output)"
   ]
  },
  {
   "cell_type": "code",
   "execution_count": 26,
   "id": "e71e8076-57c0-491c-a86b-31fb019d6b8f",
   "metadata": {},
   "outputs": [],
   "source": [
    "remote_conn.close()"
   ]
  },
  {
   "cell_type": "code",
   "execution_count": 27,
   "id": "0e71bb8b-181d-43da-afe3-27f318c78f7e",
   "metadata": {},
   "outputs": [],
   "source": [
    "# CVA-BH-PAN907-MORL9022_\n",
    "# 10.241.1.1"
   ]
  },
  {
   "cell_type": "code",
   "execution_count": 32,
   "id": "b22e93d8-cfc1-4624-a8e0-08af45be24fd",
   "metadata": {},
   "outputs": [],
   "source": [
    "ipv4 = \"10.241.1.1\"\n",
    "username = \"jl5890\"\n",
    "password = \"5rJFrgPA\""
   ]
  },
  {
   "cell_type": "code",
   "execution_count": 33,
   "id": "7b2b84dc-dbde-43b4-9a3b-d98394bebdef",
   "metadata": {},
   "outputs": [
    {
     "name": "stdout",
     "output_type": "stream",
     "text": [
      "\n",
      "MXMORCVA0221RTAGG02#\n"
     ]
    }
   ],
   "source": [
    "try:\n",
    "    remote_conn_pre=paramiko.SSHClient()\n",
    "    remote_conn_pre.set_missing_host_key_policy(paramiko.AutoAddPolicy())\n",
    "    remote_conn_pre.connect(ipv4, username=username, password=password, look_for_keys=False, allow_agent=False)\n",
    "    remote_conn = remote_conn_pre.invoke_shell()\n",
    "    time.sleep(2)\n",
    "    output = remote_conn.recv(1000).decode(\"ascii\")\n",
    "    print(output)\n",
    "except Exception as e:\n",
    "    # Print to check error type\n",
    "    print(e)"
   ]
  },
  {
   "cell_type": "code",
   "execution_count": 34,
   "id": "ff325647-c5ac-453e-916d-94363107a0c8",
   "metadata": {},
   "outputs": [
    {
     "name": "stdout",
     "output_type": "stream",
     "text": [
      "show version\n",
      "Cisco IOS XE Software, Version 17.06.03\n",
      "Cisco IOS Software [Bengaluru], ASR900 Software (PPC_LINUX_IOSD-UNIVERSALK9_NPE-M), Version 17.6.3, RELEASE SOFTWARE (fc4)\n",
      "Technical Support: http://www.cisco.com/techsupport\n",
      "Copyright (c) 1986-2022 by Cisco Systems, Inc.\n",
      "Compiled Wed 30-Mar-22 20:28 by mcpre\n",
      "\n",
      "\n",
      "Cisco IOS-XE software, Copyright (c) 2005-2022 by cisco Systems, Inc.\n",
      "All rights reserved.  Certain components of Cisco IOS-XE software are\n",
      "licensed under the GNU General Public License (\"GPL\") Version 2.0.  The\n",
      "software code licensed under GPL Version 2.0 is free software that comes\n",
      "with ABSOLUTELY NO WARRANTY.  You can redistribute and/or modify such\n",
      "GPL code under the terms of GPL Version 2.0.  For more details, see the\n",
      "documentation or \"License Notice\" file accompanying the IOS-XE software,\n",
      "or the applicable URL provided on the flyer accompanying the IOS-XE\n",
      "software.\n",
      "\n",
      "\n",
      "ROM: 15.6(49r)S\n",
      "\n",
      "MXMORCVA0221RTAGG02 uptime is 31 weeks, 6 days, 52 minutes\n",
      "Uptime for this control processor is 31 weeks, 6 days, 59 minutes\n",
      " --More-- \n"
     ]
    }
   ],
   "source": [
    "try:                         \n",
    "    remote_conn.send(\"show version\\n\")\n",
    "    time.sleep(5)\n",
    "    output = remote_conn.recv(5000).decode(\"ascii\")\n",
    "    print(output)\n",
    "except:                        \n",
    "    remote_conn.send(\"display version\\n\")\n",
    "    time.sleep(5)\n",
    "    output = remote_conn.recv(5000).decode(\"ascii\")\n",
    "    print(output)"
   ]
  },
  {
   "cell_type": "code",
   "execution_count": 35,
   "id": "e4b180ca-c733-426c-ad6f-969c1627f5dd",
   "metadata": {},
   "outputs": [],
   "source": [
    "remote_conn.close()"
   ]
  },
  {
   "cell_type": "code",
   "execution_count": 36,
   "id": "1cf5c97c-057b-4db7-8b99-97a5885c6151",
   "metadata": {},
   "outputs": [],
   "source": [
    "# MEX-BH-CSR920-MEX9289_\n",
    "# 10.241.5.47"
   ]
  },
  {
   "cell_type": "code",
   "execution_count": 37,
   "id": "13094356-3805-47ac-90d1-ef65e9e787ac",
   "metadata": {},
   "outputs": [],
   "source": [
    "ipv4 = \"10.241.5.47\"\n",
    "username = \"jl5890\"\n",
    "password = \"5rJFrgPA\""
   ]
  },
  {
   "cell_type": "code",
   "execution_count": 38,
   "id": "490d4c21-0107-4f26-8029-dfad3ee40cc5",
   "metadata": {},
   "outputs": [
    {
     "name": "stdout",
     "output_type": "stream",
     "text": [
      "MXDIFCYN0427RTBHSEMOB01#\n"
     ]
    }
   ],
   "source": [
    "try:\n",
    "    remote_conn_pre=paramiko.SSHClient()\n",
    "    remote_conn_pre.set_missing_host_key_policy(paramiko.AutoAddPolicy())\n",
    "    remote_conn_pre.connect(ipv4, username=username, password=password, look_for_keys=False, allow_agent=False)\n",
    "    remote_conn = remote_conn_pre.invoke_shell()\n",
    "    time.sleep(2)\n",
    "    output = remote_conn.recv(1000).decode(\"ascii\")\n",
    "    print(output)\n",
    "except Exception as e:\n",
    "    # Print to check error type\n",
    "    print(e)"
   ]
  },
  {
   "cell_type": "code",
   "execution_count": 39,
   "id": "5f795878-d827-4df8-a583-504a7ef732db",
   "metadata": {},
   "outputs": [
    {
     "name": "stdout",
     "output_type": "stream",
     "text": [
      "show version\n",
      "Cisco IOS XE Software, Version 17.06.03\n",
      "Cisco IOS Software [Bengaluru], ASR900 Software (PPC_LINUX_IOSD-UNIVERSALK9_NPE-M), Version 17.6.3, RELEASE SOFTWARE (fc4)\n",
      "Technical Support: http://www.cisco.com/techsupport\n",
      "Copyright (c) 1986-2022 by Cisco Systems, Inc.\n",
      "Compiled Wed 30-Mar-22 20:28 by mcpre\n",
      "\n",
      "\n",
      "Cisco IOS-XE software, Copyright (c) 2005-2022 by cisco Systems, Inc.\n",
      "All rights reserved.  Certain components of Cisco IOS-XE software are\n",
      "licensed under the GNU General Public License (\"GPL\") Version 2.0.  The\n",
      "software code licensed under GPL Version 2.0 is free software that comes\n",
      "with ABSOLUTELY NO WARRANTY.  You can redistribute and/or modify such\n",
      "GPL code under the terms of GPL Version 2.0.  For more details, see the\n",
      "documentation or \"License Notice\" file accompanying the IOS-XE software,\n",
      "or the applicable URL provided on the flyer accompanying the IOS-XE\n",
      "software.\n",
      "\n",
      "\n",
      "ROM: 15.6(49r)S\n",
      "\n",
      "MXDIFCYN0427RTBHSEMOB01 uptime is 28 weeks, 6 days, 21 hours, 23 minutes\n",
      "Uptime for this control processor is 28 weeks, 6 days, 21 hours, 31 minutes\n",
      " --More-- \n"
     ]
    }
   ],
   "source": [
    "try:                         \n",
    "    remote_conn.send(\"show version\\n\")\n",
    "    time.sleep(5)\n",
    "    output = remote_conn.recv(5000).decode(\"ascii\")\n",
    "    print(output)\n",
    "except:                        \n",
    "    remote_conn.send(\"display version\\n\")\n",
    "    time.sleep(5)\n",
    "    output = remote_conn.recv(5000).decode(\"ascii\")\n",
    "    print(output)"
   ]
  },
  {
   "cell_type": "code",
   "execution_count": null,
   "id": "f85ce36f-d544-405e-852e-f2d96d38ef77",
   "metadata": {},
   "outputs": [],
   "source": [
    "remote_conn.close()"
   ]
  },
  {
   "cell_type": "code",
   "execution_count": 40,
   "id": "e51c1976-c204-45de-a67a-2939e05d6d31",
   "metadata": {},
   "outputs": [],
   "source": [
    "# MXCMXM01RTDCLFMOB01\n",
    "# 10.224.18.132"
   ]
  },
  {
   "cell_type": "code",
   "execution_count": 41,
   "id": "afedb2e5-62b7-4f8d-8323-1909b30867b9",
   "metadata": {},
   "outputs": [],
   "source": [
    "ipv4 = \"10.224.18.132\"\n",
    "username = \"jl5890\"\n",
    "password = \"5rJFrgPA\""
   ]
  },
  {
   "cell_type": "code",
   "execution_count": 42,
   "id": "f410cfef-1d41-439a-8204-4037c749add0",
   "metadata": {},
   "outputs": [
    {
     "name": "stdout",
     "output_type": "stream",
     "text": [
      "\n",
      "\n",
      "RP/0/RP0/CPU0:MXCMXM01RTDCLFMOB01#\n"
     ]
    }
   ],
   "source": [
    "try:\n",
    "    remote_conn_pre=paramiko.SSHClient()\n",
    "    remote_conn_pre.set_missing_host_key_policy(paramiko.AutoAddPolicy())\n",
    "    remote_conn_pre.connect(ipv4, username=username, password=password, look_for_keys=False, allow_agent=False)\n",
    "    remote_conn = remote_conn_pre.invoke_shell()\n",
    "    time.sleep(2)\n",
    "    output = remote_conn.recv(1000).decode(\"ascii\")\n",
    "    print(output)\n",
    "except Exception as e:\n",
    "    # Print to check error type\n",
    "    print(e)"
   ]
  },
  {
   "cell_type": "code",
   "execution_count": 43,
   "id": "40167a8d-5771-4e99-8506-4954cc7d1c5e",
   "metadata": {},
   "outputs": [
    {
     "name": "stdout",
     "output_type": "stream",
     "text": [
      "show version\n",
      "Wed Sep  6 02:00:10.026 CST\n",
      "Cisco IOS XR Software, Version 7.1.2\n",
      "Copyright (c) 2013-2020 by Cisco Systems, Inc.\n",
      "\n",
      "Build Information:\n",
      " Built By     : ahoang\n",
      " Built On     : Sat Aug 29 13:28:37 PDT 2020\n",
      " Built Host   : iox-ucs-025\n",
      " Workspace    : /auto/srcarchive13/prod/7.1.2/ncs5500/ws\n",
      " Version      : 7.1.2\n",
      " Location     : /opt/cisco/XR/packages/\n",
      " Label        : 7.1.2\n",
      "\n",
      "cisco NCS-5500 () processor\n",
      "System uptime is 2 years 14 weeks 2 days 2 hours 7 minutes\n",
      "\n",
      "RP/0/RP0/CPU0:MXCMXM01RTDCLFMOB01#\n"
     ]
    }
   ],
   "source": [
    "try:                         \n",
    "    remote_conn.send(\"show version\\n\")\n",
    "    time.sleep(5)\n",
    "    output = remote_conn.recv(5000).decode(\"ascii\")\n",
    "    print(output)\n",
    "except:                        \n",
    "    remote_conn.send(\"display version\\n\")\n",
    "    time.sleep(5)\n",
    "    output = remote_conn.recv(5000).decode(\"ascii\")\n",
    "    print(output)"
   ]
  },
  {
   "cell_type": "code",
   "execution_count": 44,
   "id": "90902532-e10d-4d5d-bc54-72588b237171",
   "metadata": {},
   "outputs": [],
   "source": [
    "remote_conn.close()"
   ]
  },
  {
   "cell_type": "code",
   "execution_count": 45,
   "id": "b60d30bb-bbee-43d7-98dc-9c3c37e8dfcc",
   "metadata": {},
   "outputs": [],
   "source": [
    "# MXTULM01RTDCEDGE01\n",
    "# 10.41.7.2/10.41.7.4/10.41.7.5"
   ]
  },
  {
   "cell_type": "code",
   "execution_count": 60,
   "id": "5999d13f-f2a4-461d-8cdd-44e3bca71d08",
   "metadata": {},
   "outputs": [],
   "source": [
    "ipv4 = \"10.41.7.5\"\n",
    "username = \"jl5890\"\n",
    "password = \"5rJFrgPA\""
   ]
  },
  {
   "cell_type": "code",
   "execution_count": 61,
   "id": "ea10ef3c-fde1-4e45-bbd2-0bd691248992",
   "metadata": {},
   "outputs": [
    {
     "name": "stdout",
     "output_type": "stream",
     "text": [
      "Authentication failed.\n"
     ]
    }
   ],
   "source": [
    "try:\n",
    "    remote_conn_pre=paramiko.SSHClient()\n",
    "    remote_conn_pre.set_missing_host_key_policy(paramiko.AutoAddPolicy())\n",
    "    remote_conn_pre.connect(ipv4, username=username, password=password, look_for_keys=False, allow_agent=False)\n",
    "    remote_conn = remote_conn_pre.invoke_shell()\n",
    "    time.sleep(2)\n",
    "    output = remote_conn.recv(1000).decode(\"ascii\")\n",
    "    print(output)\n",
    "except Exception as e:\n",
    "    # Print to check error type\n",
    "    print(e)"
   ]
  },
  {
   "cell_type": "code",
   "execution_count": null,
   "id": "051c8eb6-6a16-4e6b-9412-7aa4f5b78379",
   "metadata": {},
   "outputs": [],
   "source": [
    "try:                         \n",
    "    remote_conn.send(\"show version\\n\")\n",
    "    time.sleep(5)\n",
    "    output = remote_conn.recv(5000).decode(\"ascii\")\n",
    "    print(output)\n",
    "except:                        \n",
    "    remote_conn.send(\"display version\\n\")\n",
    "    time.sleep(5)\n",
    "    output = remote_conn.recv(5000).decode(\"ascii\")\n",
    "    print(output)"
   ]
  },
  {
   "cell_type": "code",
   "execution_count": 57,
   "id": "31cd7b6e-93f9-4bc5-af68-925b85a3cf2d",
   "metadata": {},
   "outputs": [],
   "source": [
    "remote_conn.close()"
   ]
  },
  {
   "cell_type": "code",
   "execution_count": 49,
   "id": "cc00b9a4-0e10-4070-b42e-5d5fff0382f5",
   "metadata": {},
   "outputs": [],
   "source": [
    "# ENSENA-BCN1051-AA\n",
    "# 10.190.0.43"
   ]
  },
  {
   "cell_type": "code",
   "execution_count": 62,
   "id": "6de150ef-fc35-4424-92b8-60691d57c468",
   "metadata": {},
   "outputs": [],
   "source": [
    "ipv4 = \"10.190.0.43\"\n",
    "username = \"jl5890\"\n",
    "password = \"5rJFrgPA\""
   ]
  },
  {
   "cell_type": "code",
   "execution_count": 63,
   "id": "f5bff217-50ff-4a54-b3da-6e0e528f5857",
   "metadata": {},
   "outputs": [
    {
     "name": "stdout",
     "output_type": "stream",
     "text": [
      "[WinError 10060] Se produjo un error durante el intento de conexión ya que la parte conectada no respondió adecuadamente tras un periodo de tiempo, o bien se produjo un error en la conexión establecida ya que el host conectado no ha podido responder\n"
     ]
    }
   ],
   "source": [
    "try:\n",
    "    remote_conn_pre=paramiko.SSHClient()\n",
    "    remote_conn_pre.set_missing_host_key_policy(paramiko.AutoAddPolicy())\n",
    "    remote_conn_pre.connect(ipv4, username=username, password=password, look_for_keys=False, allow_agent=False)\n",
    "    remote_conn = remote_conn_pre.invoke_shell()\n",
    "    time.sleep(2)\n",
    "    output = remote_conn.recv(1000).decode(\"ascii\")\n",
    "    print(output)\n",
    "except Exception as e:\n",
    "    # Print to check error type\n",
    "    print(e)"
   ]
  },
  {
   "cell_type": "code",
   "execution_count": null,
   "id": "4a018b14-0359-4f03-bfcf-3a641ae51b2f",
   "metadata": {},
   "outputs": [],
   "source": [
    "try:                         \n",
    "    remote_conn.send(\"show version\\n\")\n",
    "    time.sleep(5)\n",
    "    output = remote_conn.recv(5000).decode(\"ascii\")\n",
    "    print(output)\n",
    "except:                        \n",
    "    remote_conn.send(\"display version\\n\")\n",
    "    time.sleep(5)\n",
    "    output = remote_conn.recv(5000).decode(\"ascii\")\n",
    "    print(output)"
   ]
  },
  {
   "cell_type": "code",
   "execution_count": 52,
   "id": "ed2b52bc-899d-4230-b110-1d2077a274ca",
   "metadata": {},
   "outputs": [],
   "source": [
    "remote_conn.close()"
   ]
  },
  {
   "cell_type": "code",
   "execution_count": 53,
   "id": "49f90bf7-bfb7-41f1-8a44-8be6790eae7b",
   "metadata": {},
   "outputs": [],
   "source": [
    "# MX-TIJ-M5-Backhaul-CX6X3-2\n",
    "# 10.38.217.16"
   ]
  },
  {
   "cell_type": "code",
   "execution_count": 67,
   "id": "8a714288-6571-4cbb-9bcd-ebe3bfae9f0f",
   "metadata": {},
   "outputs": [],
   "source": [
    "ipv4 = \"10.38.217.16\"\n",
    "username = \"jl5890\"\n",
    "password = \"5rJFrgPA\""
   ]
  },
  {
   "cell_type": "code",
   "execution_count": 92,
   "id": "b7818d98-fe56-4b80-9aa0-01e0c4640de0",
   "metadata": {},
   "outputs": [
    {
     "name": "stdout",
     "output_type": "stream",
     "text": [
      "<class 'bytes'>\n",
      "b'\\r\\n\\r\\n   ----------------------------------------------------------------------------\\r\\n                 AVISO SOBRE EL USO DEL SISTEMA EN FORMA NO AUTORIZADA\\r\\n   El uso de este sistema est\\xe1 RESTRINGIDO SOLAMENTE PARA PERSONAL AUTORIZADO.\\r\\n   Cualquier actividad es monitoreada y registrada por personal del \\xe1rea de\\r\\n   sistemas, por lo tanto cualquier persona que haga uso del mismo acepta\\r\\n   que estas actividades sean monitoreadas y registradas.\\r\\n   Estar consciente que si cualquier actividad criminal es detectada, dichos\\r\\n   registros as\\xed como informaci\\xf3n personal ser\\xe1n entregadas a las autoridades\\r\\n   correspondientes para su investigaci\\xf3n.\\r\\n   -----------------------------------------------------------------------------\\r\\n                SYSTEM UNAUTHORIZED USE WARNING\\r\\n   Use of this network device or system is RESTRICTED TO AUTHORIZED USERS.\\r\\n   User activity is monitored and recorder by system personnel. Anyone using the\\r\\n   network expressly consents to such monitoring and recording. BE ADVISED, if\\r\\n   possible criminal activity is detected, system record, along with certain\\r\\n   personal information, may be provided to law enforcement officials.\\r\\n   -----------------------------------------------------------------------------\\r\\nInfo: The max number of VTY users is 10, and the number\\r\\n      of current VTY users on line is 7.\\r\\n      The current login time is 2023-09-06 01:32:07-07:00 DST.\\r\\nInfo:  First time access.  Failed: 0\\r\\n\\r\\n<MXTIJM01RTCOREBH02>'\n"
     ]
    }
   ],
   "source": [
    "try:\n",
    "    remote_conn_pre=paramiko.SSHClient()\n",
    "    remote_conn_pre.set_missing_host_key_policy(paramiko.AutoAddPolicy())\n",
    "    remote_conn_pre.connect(ipv4, username=username, password=password, look_for_keys=False, allow_agent=False)\n",
    "    remote_conn = remote_conn_pre.invoke_shell()\n",
    "    time.sleep(2)\n",
    "    output = remote_conn.recv(5000)\n",
    "    print(type(output))\n",
    "    print(output)\n",
    "except Exception as e:\n",
    "    # Print to check error type\n",
    "    print(e)"
   ]
  },
  {
   "cell_type": "code",
   "execution_count": 100,
   "id": "2e89a741-80b6-443c-9eb0-8b1532c24e1a",
   "metadata": {},
   "outputs": [
    {
     "name": "stdout",
     "output_type": "stream",
     "text": [
      "display version\n",
      "Huawei Versatile Routing Platform Software\n",
      "VRP (R) software, Version 5.160 (CX600 V600R008C10SPC300)\n",
      "Copyright (C) 2000-2014 Huawei Technologies Co., Ltd.\n",
      "HUAWEI CX600-X8 uptime is 2255 days, 0 hour, 14 minutes\n",
      "Patch version : V600R008SPH138\n",
      "CX600-X8 version information:\n",
      "\n",
      "- - - - - - - - - - - - - - - - - - - - - - - - - - - - - - - - - - - - - -\n",
      "\n",
      "BKP 1 version information:\n",
      "  PCB         Version : CX61BKP08B REV A\n",
      "  MPU  Slot  Quantity : 0\n",
      "  SRU  Slot  Quantity : 2\n",
      "  SFU  Slot  Quantity : 1\n",
      "  LPU  Slot  Quantity : 8\n",
      "\n",
      "- - - - - - - - - - - - - - - - - - - - - - - - - - - - - - - - - - - - - -\n",
      "MPU version information:\n",
      "\n",
      "MPU(Master) 9  : uptime is 2254 days, 23 hours, 44 minutes\n",
      "         StartupTime   2017/07/04   01:52:04 \n",
      "  SDRAM Memory Size   : 2048M bytes\n",
      "  FLASH Memory Size   : 32M  bytes\n",
      "  NVRAM Memory Size   : 4096K bytes\n",
      "  ---- More ----\n"
     ]
    }
   ],
   "source": [
    "try:                         \n",
    "    remote_conn.send(\"show version\\n\")\n",
    "    time.sleep(5)\n",
    "    output = remote_conn.recv(5000).decode(\"ascii\")\n",
    "    if \"Unrecognized command found at\" in output:\n",
    "        remote_conn.send(\"display version\\n\")\n",
    "        time.sleep(5)\n",
    "        output = remote_conn.recv(5000).decode(\"ascii\")\n",
    "        print(output)\n",
    "    else:\n",
    "        print(output)\n",
    "except Exception as e:\n",
    "    # Print to check error type\n",
    "    print(e)"
   ]
  },
  {
   "cell_type": "code",
   "execution_count": 78,
   "id": "60548c4d-8fae-4830-9aed-0a1fc21e7a75",
   "metadata": {},
   "outputs": [],
   "source": [
    "remote_conn.close()"
   ]
  },
  {
   "cell_type": "code",
   "execution_count": null,
   "id": "54d87f01-27c5-4212-b878-ec908babe14b",
   "metadata": {},
   "outputs": [],
   "source": []
  }
 ],
 "metadata": {
  "kernelspec": {
   "display_name": "Python 3 (ipykernel)",
   "language": "python",
   "name": "python3"
  },
  "language_info": {
   "codemirror_mode": {
    "name": "ipython",
    "version": 3
   },
   "file_extension": ".py",
   "mimetype": "text/x-python",
   "name": "python",
   "nbconvert_exporter": "python",
   "pygments_lexer": "ipython3",
   "version": "3.9.7"
  }
 },
 "nbformat": 4,
 "nbformat_minor": 5
}
